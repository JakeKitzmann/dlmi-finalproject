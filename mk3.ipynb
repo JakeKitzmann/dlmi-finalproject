{
 "cells": [
  {
   "cell_type": "code",
   "execution_count": 2,
   "id": "4eb1c36f-93e6-4e12-8e17-d05a1845e9f3",
   "metadata": {},
   "outputs": [],
   "source": [
    "import torch\n",
    "import torch.nn as nn\n",
    "import torchvision.transforms.functional as TF\n",
    "import os\n",
    "import SimpleITK as sitk\n",
    "import numpy as np\n",
    "import matplotlib.pyplot as plt\n",
    "from sklearn.model_selection import train_test_split\n",
    "import torch.optim as optim\n",
    "from matplotlib.widgets import Slider\n",
    "import time\n",
    "from torchmetrics.classification import Dice\n",
    "import glob\n",
    "from tqdm.notebook import tqdm\n",
    "from torchvision.ops import sigmoid_focal_loss\n",
    "from torch.utils.data import DataLoader, Dataset\n",
    "\n",
    "device = 'cuda'"
   ]
  },
  {
   "cell_type": "markdown",
   "id": "c392b520-d1a9-4a6b-a3c1-1b3ae735e6c1",
   "metadata": {},
   "source": [
    "Data Acquisition"
   ]
  },
  {
   "cell_type": "code",
   "execution_count": 3,
   "id": "0e0fa8ca-42ec-4ce6-81b1-4e693422541b",
   "metadata": {},
   "outputs": [],
   "source": [
    "def binary(data, threshold):\n",
    "    return (data > threshold).float()"
   ]
  },
  {
   "cell_type": "code",
   "execution_count": 4,
   "id": "8cbf799b-f5bb-4380-821c-e78a6af5fdec",
   "metadata": {},
   "outputs": [],
   "source": [
    "class Data(Dataset):\n",
    "    def __init__(self, data, labels):\n",
    "        self.data = data\n",
    "        self.labels = labels\n",
    "\n",
    "    def __len__(self):\n",
    "        return len(self.data)\n",
    "\n",
    "    def __getitem__(self, idx):\n",
    "        return self.data[idx], self.labels[idx]\n"
   ]
  },
  {
   "cell_type": "code",
   "execution_count": 5,
   "id": "093613b6-0e89-4a0e-bb0c-f6961678890b",
   "metadata": {},
   "outputs": [],
   "source": [
    "def normalize(scans):\n",
    "    return (scans - scans.min()) / (scans.max() - scans.min())"
   ]
  },
  {
   "cell_type": "code",
   "execution_count": 6,
   "id": "9f49168f-6a33-4a52-8064-01979a9ae87f",
   "metadata": {},
   "outputs": [
    {
     "name": "stdout",
     "output_type": "stream",
     "text": [
      "torch.Size([142, 1, 40, 40, 40])\n",
      "torch.Size([36, 1, 40, 40, 40])\n",
      "torch.Size([44, 1, 40, 40, 40])\n"
     ]
    }
   ],
   "source": [
    "paths_scan = glob.glob('/home/jkitzmann/final_project/final_project_data/training_scans/**/*.nrrd', recursive=True)\n",
    "seg_img_path = glob.glob('/home/jkitzmann/final_project/final_project_data/training_labels/**/*.nrrd', recursive=True)\n",
    "\n",
    "paths_seg = []\n",
    "for seg in seg_img_path:\n",
    "    try:\n",
    "        for scan in paths_scan:\n",
    "            if seg.split('/')[-1].split('_')[0] == scan.split('/')[-1].split('_')[0] and seg not in paths_seg:\n",
    "                paths_seg.append(seg)\n",
    "    except:\n",
    "        print(seg)\n",
    "\n",
    "for idx, seg in enumerate(paths_seg):\n",
    "    try:\n",
    "        if seg.split('/')[-1].split('_')[0] != paths_scan[idx].split('/')[-1].split('_')[0]:\n",
    "            paths_scan.remove(paths_scan[idx])\n",
    "    except IndexError:\n",
    "        print(seg)\n",
    "        paths_scan.remove(paths_scan[idx])\n",
    "\n",
    "scans=[]\n",
    "segs=[]\n",
    "\n",
    "desired_size = (40,40,40)\n",
    "for idx, scan_path in enumerate(paths_scan):\n",
    "    scan = sitk.GetArrayFromImage(sitk.ReadImage(scan_path))\n",
    "    seg = sitk.GetArrayFromImage(sitk.ReadImage(paths_seg[idx]))\n",
    "\n",
    "    if scan.shape == desired_size and seg.shape == desired_size:\n",
    "        scans.append(scan)\n",
    "        segs.append(seg)\n",
    "\n",
    "\n",
    "scans = np.array(scans)\n",
    "segs = np.array(segs)\n",
    "\n",
    "segs[segs == 255.0] = 1.0\n",
    "\n",
    "X_train, X_test, Y_train, Y_test = train_test_split(scans, segs, test_size=round(scans.shape[0]*.2))\n",
    "X_train, X_val, Y_train, Y_val = train_test_split(X_train, Y_train, test_size = round(X_train.shape[0]*.2))\n",
    "\n",
    "X_train = torch.from_numpy(X_train).unsqueeze(1).float().to(device)\n",
    "X_test = torch.from_numpy(X_test).unsqueeze(1).float().to(device)\n",
    "X_val = torch.from_numpy(X_val).unsqueeze(1).float().to(device)\n",
    "Y_val = torch.from_numpy(Y_val).unsqueeze(1).float().to(device)\n",
    "Y_train = torch.from_numpy(Y_train).unsqueeze(1).float().to(device)\n",
    "Y_test = torch.from_numpy(Y_test).unsqueeze(1).float().to(device)\n",
    "\n",
    "\n",
    "print(X_train.shape)\n",
    "print(X_val.shape)\n",
    "print(X_test.shape)"
   ]
  },
  {
   "cell_type": "markdown",
   "id": "190ff3f2-78b7-4463-b9f5-db15553570b8",
   "metadata": {},
   "source": [
    "Image Visualization Functions"
   ]
  },
  {
   "cell_type": "code",
   "execution_count": 7,
   "id": "6ad92938-f7c2-49ed-974b-73cb9e1dcd86",
   "metadata": {},
   "outputs": [],
   "source": [
    "volume_norm = plt.Normalize(vmin=-1000, vmax=100)\n",
    "segmentation_norm = plt.Normalize(vmin = 0, vmax = 1)\n",
    "\n",
    "def show_images_2d(slice_ax, scan_num, scan, seg, pred):\n",
    "    plt.subplot(1,3,1)\n",
    "    plt.imshow(convert_img(scan[scan_num])[slice_ax,:,:], cmap='gray')\n",
    "    plt.title('Nodule')\n",
    "    plt.axis('off')\n",
    "    \n",
    "    plt.subplot(1,3,2)\n",
    "    plt.imshow(convert_img(seg[scan_num])[slice_ax,:,:], cmap='gray')\n",
    "    plt.title('Segmentation')\n",
    "    plt.axis('off')\n",
    "    \n",
    "    plt.subplot(1,3,3)\n",
    "    plt.imshow(convert_img(pred[scan_num][slice_ax,:,:]), cmap='gray')\n",
    "    plt.title('Prediction')\n",
    "    plt.axis('off')\n",
    "\n",
    "def show_images_3d(slice_ax, scan_num, scan, seg, pred, scan_masked = np.zeros(4)):\n",
    "    plt.subplot(1,4,1)\n",
    "    plt.imshow(convert_img(scan[scan_num])[0, slice_ax,:,:], cmap='gray', norm = volume_norm)\n",
    "    plt.title('Nodule')\n",
    "    plt.axis('off')\n",
    "    \n",
    "    plt.subplot(1,4,2)\n",
    "    plt.imshow(convert_img(seg[scan_num])[0, slice_ax,:,:], cmap='gray', norm = segmentation_norm)\n",
    "    plt.title('Segmentation')\n",
    "    plt.axis('off')\n",
    "    \n",
    "    plt.subplot(1,4,3)\n",
    "    plt.imshow(convert_img(pred[scan_num][0, slice_ax,:,:]), cmap='gray', norm = segmentation_norm)\n",
    "    plt.title('Prediction')\n",
    "    plt.axis('off')\n",
    "    \n",
    "    plt.subplot(1,4,4)\n",
    "    plt.imshow(convert_img(scan_masked[scan_num][0, slice_ax,:,:]), cmap='gray', norm = volume_norm)\n",
    "    plt.title('Masked Image')\n",
    "    plt.axis('off')\n",
    "\n",
    "def convert_img(img):\n",
    "    return np.array(img.detach().to('cpu'))"
   ]
  },
  {
   "cell_type": "markdown",
   "id": "ff03e6f5-0f6c-4b0b-838e-df2fac3a9948",
   "metadata": {},
   "source": [
    "Network Structure"
   ]
  },
  {
   "cell_type": "code",
   "execution_count": 8,
   "id": "df5e05c9-4cd7-41df-8beb-54029eedd60e",
   "metadata": {},
   "outputs": [],
   "source": [
    "class UNet(nn.Module):\n",
    "    def __init__(self, \n",
    "                 in_channels=1,   \n",
    "                 out_channels=1,  # 1 for binary segmentation\n",
    "                 features=[64, 128, 256, 512]):  # Number of feature maps for each layer\n",
    "        super(UNet, self).__init__()\n",
    "        \n",
    "        self.downs = nn.ModuleList()  # Down convolutions\n",
    "        self.ups = nn.ModuleList()    # Up convolutions\n",
    "        self.pool = nn.MaxPool3d(kernel_size=2, stride=2)  # Max pooling for 3D\n",
    "\n",
    "        # down convolutions\n",
    "        for feature in features:\n",
    "            self.downs.append(DoubleConv(in_channels, feature))\n",
    "            in_channels = feature  # Update in_channels for next layer\n",
    "            \n",
    "        # bottleneck layer\n",
    "        self.bottleneck = DoubleConv(features[-1], features[-1] * 2)\n",
    "\n",
    "        # up convolutions\n",
    "        for feature in reversed(features):\n",
    "            self.ups.append(nn.ConvTranspose3d(feature * 2, feature, kernel_size=2, stride=2))  # Transpose convolution\n",
    "            self.ups.append(DoubleConv(feature * 2, feature))\n",
    "            \n",
    "        # Final output layer (segmentation output)\n",
    "        self.final_conv = nn.Conv3d(features[0], out_channels, kernel_size=1)  # Output layer for segmentation\n",
    "\n",
    "    def forward(self, x):\n",
    "        skip_connections = []\n",
    "\n",
    "        # Downward pass: encoding layers\n",
    "        for down in self.downs:\n",
    "            x = down(x)\n",
    "            skip_connections.append(x)\n",
    "            x = self.pool(x)\n",
    "\n",
    "        # Bottleneck (lowest part of U-Net)\n",
    "        x = self.bottleneck(x)\n",
    "\n",
    "        # Reverse the skip connections for upward pass\n",
    "        skip_connections = skip_connections[::-1]\n",
    "\n",
    "        # Upward pass: decoding layers\n",
    "        for idx in range(0, len(self.ups), 2):\n",
    "            x = self.ups[idx](x)  # Transpose convolution (upscale)\n",
    "            skip_connection = skip_connections[idx // 2]\n",
    "\n",
    "            # Resize if needed (if the sizes mismatch)\n",
    "            if x.shape != skip_connection.shape:\n",
    "                x = torch.nn.functional.interpolate(x, size=skip_connection.shape[2:])\n",
    "\n",
    "            # Concatenate skip connection with the upsampled feature map\n",
    "            x = torch.cat((skip_connection, x), dim=1)  # Concatenate along the channel dimension\n",
    "            x = self.ups[idx + 1](x)  # Apply the second double convolution\n",
    "        return self.final_conv(x)\n",
    "        \n",
    "class DoubleConv(nn.Module):\n",
    "    def __init__(self, in_channels, out_channels):\n",
    "        super(DoubleConv, self).__init__()\n",
    "        self.conv = nn.Sequential(\n",
    "            nn.Conv3d(in_channels, out_channels, 3, 1, 1, bias=False),\n",
    "            nn.BatchNorm3d(out_channels),\n",
    "            nn.ReLU(inplace=True),\n",
    "            nn.Conv3d(out_channels, out_channels, 3, 1, 1, bias=False),\n",
    "            nn.BatchNorm3d(out_channels),\n",
    "            nn.ReLU(inplace=True)\n",
    "        )\n",
    "\n",
    "    def forward(self, x):\n",
    "        return self.conv(x)"
   ]
  },
  {
   "cell_type": "markdown",
   "id": "0692681b-1e49-455c-96d0-49b656a10829",
   "metadata": {},
   "source": [
    "Loss Functions"
   ]
  },
  {
   "cell_type": "code",
   "execution_count": 9,
   "id": "050d89c6-c7e5-4e44-9e25-24ccc7b1ce2c",
   "metadata": {},
   "outputs": [],
   "source": [
    "import torch.nn.functional as F\n",
    "\n",
    "class DiceLoss(nn.Module):\n",
    "    def __init__(self, weight=None, size_average=True):\n",
    "        super(DiceLoss, self).__init__()\n",
    "\n",
    "    def forward(self, inputs, targets, smooth=1):\n",
    "        \n",
    "        #comment out if your model contains a sigmoid or equivalent activation layer\n",
    "        inputs = nn.functional.sigmoid(inputs)       \n",
    "        \n",
    "        #flatten label and prediction tensors\n",
    "        inputs = inputs.view(-1)\n",
    "        targets = targets.view(-1)\n",
    "        \n",
    "        intersection = (inputs * targets).sum()                            \n",
    "        dice = (2.*intersection + smooth)/(inputs.sum() + targets.sum() + smooth)  \n",
    "        \n",
    "        return 1 - dice\n",
    "\n",
    "#PyTorch\n",
    "ALPHA = 0.5\n",
    "BETA = 0.5\n",
    "\n",
    "class TverskyLoss(nn.Module):\n",
    "    def __init__(self, weight=None, size_average=True):\n",
    "        super(TverskyLoss, self).__init__()\n",
    "\n",
    "    def forward(self, inputs, targets, smooth=1, alpha=ALPHA, beta=BETA):\n",
    "        #flatten label and prediction tensors\n",
    "        inputs = inputs.view(-1)\n",
    "        targets = targets.view(-1)\n",
    "        \n",
    "        #True Positives, False Positives & False Negatives\n",
    "        TP = (inputs * targets).sum()    \n",
    "        FP = ((1-targets) * inputs).sum()\n",
    "        FN = (targets * (1-inputs)).sum()\n",
    "       \n",
    "        Tversky = (TP + smooth) / (TP + alpha*FP + beta*FN + smooth)  \n",
    "        \n",
    "        return 1 - Tversky\n",
    "\n",
    "from torch.autograd import Variable\n",
    "class FocalLoss(nn.Module):\n",
    "    def __init__(self, gamma=0, alpha=None, size_average=True):\n",
    "        super(FocalLoss, self).__init__()\n",
    "        self.gamma = gamma\n",
    "        self.alpha = alpha\n",
    "        # if isinstance(alpha,(float,int,long)): self.alpha = torch.Tensor([alpha,1-alpha])\n",
    "        # if isinstance(alpha,list): self.alpha = torch.Tensor(alpha)\n",
    "        self.size_average = size_average\n",
    "\n",
    "    def forward(self, input, target):\n",
    "        if input.dim()>2:\n",
    "            input = input.view(input.size(0),input.size(1),-1)  # N,C,H,W => N,C,H*W\n",
    "            input = input.transpose(1,2)    # N,C,H*W => N,H*W,C\n",
    "            input = input.contiguous().view(-1,input.size(2))   # N,H*W,C => N*H*W,C\n",
    "        target = target.view(-1,1)\n",
    "\n",
    "        logpt = nn.functional.log_softmax(input)\n",
    "        logpt = logpt.gather(1,target)\n",
    "        logpt = logpt.view(-1)\n",
    "        pt = Variable(logpt.data.exp())\n",
    "\n",
    "        if self.alpha is not None:\n",
    "            if self.alpha.type()!=input.data.type():\n",
    "                self.alpha = self.alpha.type_as(input.data)\n",
    "            at = self.alpha.gather(0,target.data.view(-1))\n",
    "            logpt = logpt * Variable(at)\n",
    "\n",
    "        loss = -1 * (1-pt)**self.gamma * logpt\n",
    "        if self.size_average: return loss.mean()\n",
    "        else: return loss.sum()\n",
    "\n",
    "#PyTorch\n",
    "class IoULoss(nn.Module):\n",
    "    def __init__(self, weight=None, size_average=True):\n",
    "        super(IoULoss, self).__init__()\n",
    "\n",
    "    def forward(self, inputs, targets, smooth=1):\n",
    "        \n",
    "        #comment out if your model contains a sigmoid or equivalent activation layer\n",
    "        inputs = nn.functional.sigmoid(inputs)       \n",
    "        \n",
    "        #flatten label and prediction tensors\n",
    "        inputs = inputs.view(-1)\n",
    "        targets = targets.view(-1)\n",
    "        \n",
    "        #intersection is equivalent to True Positive count\n",
    "        #union is the mutually inclusive area of all labels & predictions \n",
    "        intersection = (inputs * targets).sum()\n",
    "        total = (inputs + targets).sum()\n",
    "        union = total - intersection \n",
    "        \n",
    "        IoU = (intersection + smooth)/(union + smooth)\n",
    "                \n",
    "        return 1 - IoU\n",
    "\n",
    "#PyTorch\n",
    "class DiceBCELoss(nn.Module):\n",
    "    def __init__(self, weight=None, size_average=True):\n",
    "        super(DiceBCELoss, self).__init__()\n",
    "\n",
    "    def forward(self, inputs, targets, smooth=1):\n",
    "        \n",
    "        #comment out if your model contains a sigmoid or equivalent activation layer\n",
    "        inputs = nn.functional.sigmoid(inputs)       \n",
    "        \n",
    "        #flatten label and prediction tensors\n",
    "        inputs = inputs.view(-1)\n",
    "        targets = targets.view(-1)\n",
    "        \n",
    "        intersection = (inputs * targets).sum()                            \n",
    "        dice_loss = 1 - (2.*intersection + smooth)/(inputs.sum() + targets.sum() + smooth)  \n",
    "        BCE = nn.functional.binary_cross_entropy(inputs, targets, reduction='mean')\n",
    "        Dice_BCE = BCE + dice_loss\n",
    "        \n",
    "        return Dice_BCE\n",
    "\n",
    "#PyTorch\n",
    "ALPHA = 0.5\n",
    "BETA = 0.5\n",
    "GAMMA = 1\n",
    "\n",
    "class FocalTverskyLoss(nn.Module):\n",
    "    def __init__(self, weight=None, size_average=True):\n",
    "        super(FocalTverskyLoss, self).__init__()\n",
    "\n",
    "    def forward(self, inputs, targets, smooth=1, alpha=ALPHA, beta=BETA, gamma=GAMMA):\n",
    "        \n",
    "        #comment out if your model contains a sigmoid or equivalent activation layer\n",
    "        inputs = nn.functional.sigmoid(inputs)       \n",
    "        \n",
    "        #flatten label and prediction tensors\n",
    "        inputs = inputs.view(-1)\n",
    "        targets = targets.view(-1)\n",
    "        \n",
    "        #True Positives, False Positives & False Negatives\n",
    "        TP = (inputs * targets).sum()    \n",
    "        FP = ((1-targets) * inputs).sum()\n",
    "        FN = (targets * (1-inputs)).sum()\n",
    "        \n",
    "        Tversky = (TP + smooth) / (TP + alpha*FP + beta*FN + smooth)  \n",
    "        FocalTversky = (1 - Tversky)**gamma\n",
    "                       \n",
    "        return FocalTversky"
   ]
  },
  {
   "cell_type": "markdown",
   "id": "a30c9b5c-3081-41b9-acff-b175fc00a5f4",
   "metadata": {},
   "source": [
    "Accuracy Metrics"
   ]
  },
  {
   "cell_type": "code",
   "execution_count": 10,
   "id": "c6c89705-5d4d-4403-a031-2bddb6bc2ec4",
   "metadata": {},
   "outputs": [],
   "source": [
    "def dice_coefficient(tensor1, tensor2, threshold=.5):\n",
    "    # Apply threshold to tensors to binarize them (values >= threshold become 1, else 0)\n",
    "    tensor1 = (tensor1 >= threshold).float()\n",
    "    tensor2 = (tensor2 >= threshold).float()\n",
    "    \n",
    "    # Compute the intersection and the union\n",
    "    intersection = torch.sum(tensor1 * tensor2)\n",
    "    union = torch.sum(tensor1) + torch.sum(tensor2)\n",
    "    \n",
    "    # Calculate Dice score\n",
    "    if union == 0:\n",
    "        return torch.tensor(1.0)  # Dice score is 1 if both tensors are empty\n",
    "    else:\n",
    "        return 2 * intersection / union"
   ]
  },
  {
   "cell_type": "markdown",
   "id": "6c041f70-c98f-4ad0-b659-a44ea5cc918b",
   "metadata": {},
   "source": [
    "Training Loop"
   ]
  },
  {
   "cell_type": "code",
   "execution_count": 11,
   "id": "ed775146-8206-4b67-afb0-7f4f959b26e7",
   "metadata": {},
   "outputs": [],
   "source": [
    "def train(model, data_loader, val_loader, optimizer, loss_function, scaler, epochs, progress_bar, device=\"cuda\"):\n",
    "    train_loss_history = []\n",
    "    val_loss_history = []\n",
    "    \n",
    "    # Move the model to the specified device\n",
    "    model.to(device)\n",
    "\n",
    "    # Set up the progress bar\n",
    "    if progress_bar:\n",
    "        epochs_range = tqdm(range(epochs))\n",
    "    else:\n",
    "        epochs_range = range(epochs)\n",
    "\n",
    "    for epoch in epochs_range:\n",
    "        # Training loop\n",
    "        model.train()  # Set model to training mode\n",
    "        running_train_loss = 0.0\n",
    "        for idx, data in enumerate(data_loader):\n",
    "            scans, segs = data\n",
    "\n",
    "            # Forward pass with automatic mixed precision\n",
    "            with torch.amp.autocast(device):\n",
    "                predictions = model(scans)\n",
    "                loss = loss_function(predictions, segs)\n",
    "\n",
    "            # Backward pass and optimizer step\n",
    "            optimizer.zero_grad()\n",
    "            scaler.scale(loss).backward()\n",
    "            scaler.step(optimizer)\n",
    "            scaler.update()\n",
    "\n",
    "            running_train_loss += loss.item()\n",
    "\n",
    "        avg_train_loss = running_train_loss / len(data_loader)\n",
    "        train_loss_history.append(avg_train_loss)\n",
    "\n",
    "        # Validation loop\n",
    "        model.eval()  # Set model to evaluation mode\n",
    "        running_val_loss = 0.0\n",
    "        with torch.no_grad():\n",
    "            for idx, data in enumerate(val_loader):\n",
    "                scans, segs = data\n",
    "                scans, segs = scans.to(device), segs.to(device)\n",
    "\n",
    "                # Forward pass\n",
    "                with torch.amp.autocast(device):\n",
    "                    predictions = model(scans)\n",
    "                    val_loss = loss_function(predictions, segs)\n",
    "\n",
    "                running_val_loss += val_loss.item()\n",
    "\n",
    "        avg_val_loss = running_val_loss / len(val_loader)\n",
    "        val_loss_history.append(avg_val_loss)\n",
    "\n",
    "        # Update progress bar with losses\n",
    "        if progress_bar:\n",
    "            epochs_range.set_description(\n",
    "                f\"Epoch {epoch + 1}: Train Loss: {avg_train_loss:.4f}, Val Loss: {avg_val_loss:.4f}\"\n",
    "            )\n",
    "\n",
    "    return train_loss_history, val_loss_history"
   ]
  },
  {
   "cell_type": "markdown",
   "id": "8735e5cc-3d55-4af6-92d7-016d19e5e85c",
   "metadata": {},
   "source": [
    "General Testing"
   ]
  },
  {
   "cell_type": "code",
   "execution_count": null,
   "id": "ae9d09e8-0506-4156-8494-d663f60211fd",
   "metadata": {},
   "outputs": [],
   "source": [
    "# Parameters\n",
    "model = UNet(1,1).to(device)\n",
    "loss_function = DiceLoss()\n",
    "lr = 1e-3\n",
    "optimizer = optim.Adam(model.parameters(), lr=lr)\n",
    "batch_size = 4\n",
    "epochs = 500\n",
    "scaler = torch.amp.GradScaler(device)\n",
    "train_data = Data(X_train.to('cuda'), Y_train.to('cuda'))\n",
    "train_data_loader = DataLoader(train_data, batch_size=batch_size, shuffle=True)\n",
    "val_data = Data(X_val.to('cuda'), Y_val.to('cuda'))\n",
    "val_data_loader = DataLoader(val_data, batch_size=batch_size, shuffle=True)"
   ]
  },
  {
   "cell_type": "code",
   "execution_count": null,
   "id": "4d132743-b8cf-4849-8583-d49a36671ece",
   "metadata": {},
   "outputs": [],
   "source": [
    "train_loss_history, val_loss_history = train(model, train_data_loader, val_data_loader, optimizer, loss_function, scaler, epochs, progress_bar=True)\n",
    "# Plot loss per epoch\n",
    "plt.plot(train_loss_history)\n",
    "plt.ylabel('loss')\n",
    "plt.xlabel('N Epochs')\n",
    "plt.plot(val_loss_history)\n",
    "plt.show()"
   ]
  },
  {
   "cell_type": "code",
   "execution_count": null,
   "id": "0abd38b3-ade4-47dc-9a88-fa62a03c3889",
   "metadata": {},
   "outputs": [],
   "source": [
    "# save network\n",
    "torch.save(model.state_dict(), '/home/jkitzmann/final_project/model_states/nov26_24.pth')"
   ]
  },
  {
   "cell_type": "code",
   "execution_count": 11,
   "id": "1458a0e2-9d92-493c-bfd3-c6fb0460a612",
   "metadata": {},
   "outputs": [
    {
     "data": {
      "text/plain": [
       "UNet(\n",
       "  (downs): ModuleList(\n",
       "    (0): DoubleConv(\n",
       "      (conv): Sequential(\n",
       "        (0): Conv3d(1, 64, kernel_size=(3, 3, 3), stride=(1, 1, 1), padding=(1, 1, 1), bias=False)\n",
       "        (1): BatchNorm3d(64, eps=1e-05, momentum=0.1, affine=True, track_running_stats=True)\n",
       "        (2): ReLU(inplace=True)\n",
       "        (3): Conv3d(64, 64, kernel_size=(3, 3, 3), stride=(1, 1, 1), padding=(1, 1, 1), bias=False)\n",
       "        (4): BatchNorm3d(64, eps=1e-05, momentum=0.1, affine=True, track_running_stats=True)\n",
       "        (5): ReLU(inplace=True)\n",
       "      )\n",
       "    )\n",
       "    (1): DoubleConv(\n",
       "      (conv): Sequential(\n",
       "        (0): Conv3d(64, 128, kernel_size=(3, 3, 3), stride=(1, 1, 1), padding=(1, 1, 1), bias=False)\n",
       "        (1): BatchNorm3d(128, eps=1e-05, momentum=0.1, affine=True, track_running_stats=True)\n",
       "        (2): ReLU(inplace=True)\n",
       "        (3): Conv3d(128, 128, kernel_size=(3, 3, 3), stride=(1, 1, 1), padding=(1, 1, 1), bias=False)\n",
       "        (4): BatchNorm3d(128, eps=1e-05, momentum=0.1, affine=True, track_running_stats=True)\n",
       "        (5): ReLU(inplace=True)\n",
       "      )\n",
       "    )\n",
       "    (2): DoubleConv(\n",
       "      (conv): Sequential(\n",
       "        (0): Conv3d(128, 256, kernel_size=(3, 3, 3), stride=(1, 1, 1), padding=(1, 1, 1), bias=False)\n",
       "        (1): BatchNorm3d(256, eps=1e-05, momentum=0.1, affine=True, track_running_stats=True)\n",
       "        (2): ReLU(inplace=True)\n",
       "        (3): Conv3d(256, 256, kernel_size=(3, 3, 3), stride=(1, 1, 1), padding=(1, 1, 1), bias=False)\n",
       "        (4): BatchNorm3d(256, eps=1e-05, momentum=0.1, affine=True, track_running_stats=True)\n",
       "        (5): ReLU(inplace=True)\n",
       "      )\n",
       "    )\n",
       "    (3): DoubleConv(\n",
       "      (conv): Sequential(\n",
       "        (0): Conv3d(256, 512, kernel_size=(3, 3, 3), stride=(1, 1, 1), padding=(1, 1, 1), bias=False)\n",
       "        (1): BatchNorm3d(512, eps=1e-05, momentum=0.1, affine=True, track_running_stats=True)\n",
       "        (2): ReLU(inplace=True)\n",
       "        (3): Conv3d(512, 512, kernel_size=(3, 3, 3), stride=(1, 1, 1), padding=(1, 1, 1), bias=False)\n",
       "        (4): BatchNorm3d(512, eps=1e-05, momentum=0.1, affine=True, track_running_stats=True)\n",
       "        (5): ReLU(inplace=True)\n",
       "      )\n",
       "    )\n",
       "  )\n",
       "  (ups): ModuleList(\n",
       "    (0): ConvTranspose3d(1024, 512, kernel_size=(2, 2, 2), stride=(2, 2, 2))\n",
       "    (1): DoubleConv(\n",
       "      (conv): Sequential(\n",
       "        (0): Conv3d(1024, 512, kernel_size=(3, 3, 3), stride=(1, 1, 1), padding=(1, 1, 1), bias=False)\n",
       "        (1): BatchNorm3d(512, eps=1e-05, momentum=0.1, affine=True, track_running_stats=True)\n",
       "        (2): ReLU(inplace=True)\n",
       "        (3): Conv3d(512, 512, kernel_size=(3, 3, 3), stride=(1, 1, 1), padding=(1, 1, 1), bias=False)\n",
       "        (4): BatchNorm3d(512, eps=1e-05, momentum=0.1, affine=True, track_running_stats=True)\n",
       "        (5): ReLU(inplace=True)\n",
       "      )\n",
       "    )\n",
       "    (2): ConvTranspose3d(512, 256, kernel_size=(2, 2, 2), stride=(2, 2, 2))\n",
       "    (3): DoubleConv(\n",
       "      (conv): Sequential(\n",
       "        (0): Conv3d(512, 256, kernel_size=(3, 3, 3), stride=(1, 1, 1), padding=(1, 1, 1), bias=False)\n",
       "        (1): BatchNorm3d(256, eps=1e-05, momentum=0.1, affine=True, track_running_stats=True)\n",
       "        (2): ReLU(inplace=True)\n",
       "        (3): Conv3d(256, 256, kernel_size=(3, 3, 3), stride=(1, 1, 1), padding=(1, 1, 1), bias=False)\n",
       "        (4): BatchNorm3d(256, eps=1e-05, momentum=0.1, affine=True, track_running_stats=True)\n",
       "        (5): ReLU(inplace=True)\n",
       "      )\n",
       "    )\n",
       "    (4): ConvTranspose3d(256, 128, kernel_size=(2, 2, 2), stride=(2, 2, 2))\n",
       "    (5): DoubleConv(\n",
       "      (conv): Sequential(\n",
       "        (0): Conv3d(256, 128, kernel_size=(3, 3, 3), stride=(1, 1, 1), padding=(1, 1, 1), bias=False)\n",
       "        (1): BatchNorm3d(128, eps=1e-05, momentum=0.1, affine=True, track_running_stats=True)\n",
       "        (2): ReLU(inplace=True)\n",
       "        (3): Conv3d(128, 128, kernel_size=(3, 3, 3), stride=(1, 1, 1), padding=(1, 1, 1), bias=False)\n",
       "        (4): BatchNorm3d(128, eps=1e-05, momentum=0.1, affine=True, track_running_stats=True)\n",
       "        (5): ReLU(inplace=True)\n",
       "      )\n",
       "    )\n",
       "    (6): ConvTranspose3d(128, 64, kernel_size=(2, 2, 2), stride=(2, 2, 2))\n",
       "    (7): DoubleConv(\n",
       "      (conv): Sequential(\n",
       "        (0): Conv3d(128, 64, kernel_size=(3, 3, 3), stride=(1, 1, 1), padding=(1, 1, 1), bias=False)\n",
       "        (1): BatchNorm3d(64, eps=1e-05, momentum=0.1, affine=True, track_running_stats=True)\n",
       "        (2): ReLU(inplace=True)\n",
       "        (3): Conv3d(64, 64, kernel_size=(3, 3, 3), stride=(1, 1, 1), padding=(1, 1, 1), bias=False)\n",
       "        (4): BatchNorm3d(64, eps=1e-05, momentum=0.1, affine=True, track_running_stats=True)\n",
       "        (5): ReLU(inplace=True)\n",
       "      )\n",
       "    )\n",
       "  )\n",
       "  (pool): MaxPool3d(kernel_size=2, stride=2, padding=0, dilation=1, ceil_mode=False)\n",
       "  (bottleneck): DoubleConv(\n",
       "    (conv): Sequential(\n",
       "      (0): Conv3d(512, 1024, kernel_size=(3, 3, 3), stride=(1, 1, 1), padding=(1, 1, 1), bias=False)\n",
       "      (1): BatchNorm3d(1024, eps=1e-05, momentum=0.1, affine=True, track_running_stats=True)\n",
       "      (2): ReLU(inplace=True)\n",
       "      (3): Conv3d(1024, 1024, kernel_size=(3, 3, 3), stride=(1, 1, 1), padding=(1, 1, 1), bias=False)\n",
       "      (4): BatchNorm3d(1024, eps=1e-05, momentum=0.1, affine=True, track_running_stats=True)\n",
       "      (5): ReLU(inplace=True)\n",
       "    )\n",
       "  )\n",
       "  (final_conv): Conv3d(64, 1, kernel_size=(1, 1, 1), stride=(1, 1, 1))\n",
       ")"
      ]
     },
     "execution_count": 11,
     "metadata": {},
     "output_type": "execute_result"
    }
   ],
   "source": [
    "# load network\n",
    "model = UNet()\n",
    "model.load_state_dict(torch.load('/home/jkitzmann/final_project/model_states/nov26_24.pth', weights_only=True))\n",
    "model.eval()"
   ]
  },
  {
   "cell_type": "markdown",
   "id": "654f6f69-218b-4385-8265-479db6c2ff44",
   "metadata": {},
   "source": [
    "CPU Conversion and Prediction Visualization"
   ]
  },
  {
   "cell_type": "code",
   "execution_count": 12,
   "id": "4fc0d24a-552a-4063-a66b-97dcb2e4abdc",
   "metadata": {},
   "outputs": [
    {
     "name": "stdout",
     "output_type": "stream",
     "text": [
      "torch.Size([44, 1, 40, 40, 40])\n"
     ]
    }
   ],
   "source": [
    "print(X_test.shape)\n",
    "\n",
    "X_train = X_train.to('cpu')\n",
    "X_test = X_test.to('cpu')\n",
    "Y_train = Y_train.to('cpu')\n",
    "Y_test = Y_test.to('cpu')\n",
    "X_val = X_val.to('cpu')\n",
    "Y_val = Y_val.to('cpu')\n",
    "\n",
    "test_predictions = model(X_test)\n",
    "test_predictions = binary(test_predictions, 5)\n",
    "test_predictions = test_predictions.to('cpu')"
   ]
  },
  {
   "cell_type": "code",
   "execution_count": 20,
   "id": "4d38c6d5-d22f-4874-82dc-253cd03d656f",
   "metadata": {},
   "outputs": [
    {
     "name": "stdout",
     "output_type": "stream",
     "text": [
      "tensor(0.8607)\n"
     ]
    },
    {
     "data": {
      "image/png": "[encoded data removed]",
      "text/plain": [
       "<Figure size 640x480 with 4 Axes>"
      ]
     },
     "metadata": {},
     "output_type": "display_data"
    }
   ],
   "source": [
    "masked_nodules = np.multiply(X_test, binary(test_predictions, .5))\n",
    "\n",
    "\n",
    "test_num = 0\n",
    "accuracies = []\n",
    "\n",
    "for idx, pred in enumerate(test_predictions):\n",
    "    accuracies.append(dice_coefficient(pred, Y_test[idx], .2))\n",
    "\n",
    "# for idx, a in enumerate(accuracies):\n",
    "#     print(idx, a)\n",
    "    \n",
    "show_images_3d(20, test_num, X_test, Y_test, binary(test_predictions,.5), masked_nodules)\n",
    "print(accuracies[test_num])"
   ]
  },
  {
   "cell_type": "code",
   "execution_count": 33,
   "id": "f33729ac-95f1-445a-a6bc-f9c183918ec8",
   "metadata": {},
   "outputs": [
    {
     "name": "stdout",
     "output_type": "stream",
     "text": [
      "average: 0.8371383547782898\n"
     ]
    },
    {
     "data": {
      "image/png": "[encoded data removed]",
      "text/plain": [
       "<Figure size 640x480 with 1 Axes>"
      ]
     },
     "metadata": {},
     "output_type": "display_data"
    }
   ],
   "source": [
    "dice_scores = []\n",
    "for idx, pred in enumerate(test_predictions):\n",
    "    dc = dice_coefficient(pred, Y_test[idx])\n",
    "    if dc > .2:\n",
    "        dice_scores.append(dc)\n",
    "\n",
    "x = range(0,len(dice_scores))\n",
    "y = dice_scores\n",
    "\n",
    "plt.scatter(x, y, color='gray')\n",
    "\n",
    "avg = np.mean(dice_scores)\n",
    "\n",
    "#add trendline to plot\n",
    "plt.plot(x, avg * np.ones(len(x)), color=\"green\", linewidth=1, linestyle=\"--\")\n",
    "plt.title('DICE scores of testing data')\n",
    "plt.ylabel('DICE coefficient')\n",
    "plt.xlabel('case number')\n",
    "\n",
    "print(f'average: {np.mean(dice_scores)}')"
   ]
  },
  {
   "cell_type": "markdown",
   "id": "21ebfa4b-83c5-4a58-810f-9890d6310fa1",
   "metadata": {},
   "source": [
    "Epoch Optimization"
   ]
  },
  {
   "cell_type": "code",
   "execution_count": null,
   "id": "90a18c62-87f3-49a9-a506-61b58d681d1d",
   "metadata": {},
   "outputs": [],
   "source": [
    "model = UNet().to(device) # change out channels for multi-class seg\n",
    "loss_function = DiceLoss()\n",
    "lr = 1e-3\n",
    "optimizer = optim.Adam(model.parameters(), lr=lr)\n",
    "batch_size = 16\n",
    "scaler = torch.amp.GradScaler(device)\n",
    "# Creating the DataLoader\n",
    "train_data = Data(X_train, Y_train)\n",
    "train_data_loader = DataLoader(train_data, batch_size=batch_size, shuffle=True)\n",
    "val_data = Data(X_val, Y_val)\n",
    "val_data_loader = DataLoader(val_data, batch_size=batch_size, shuffle=True)\n",
    "\n",
    "epoch_accuracies = []\n",
    "\n",
    "for epoch_num in tqdm(range(3, 500, 20)):\n",
    "    loss_history, predictions = train(model, train_data_loader, val_data_loader, optimizer, loss_function, scaler, epoch_num, progress_bar=True)\n",
    "    test_predictions = model(X_test)\n",
    "    accuracy = dice_coefficient(test_predictions, Y_test, .2)\n",
    "    epoch_accuracies.append(accuracy)\n",
    "    \n",
    "plt.plot(epoch_accuracies)"
   ]
  },
  {
   "cell_type": "code",
   "execution_count": null,
   "id": "061fbed2-e55b-47ea-9366-8334b856f2d4",
   "metadata": {},
   "outputs": [],
   "source": [
    "epoch_acc_np = []\n",
    "for acc in epoch_accuracies:\n",
    "    epoch_acc_np.append(acc.detach().to('cpu'))"
   ]
  },
  {
   "cell_type": "code",
   "execution_count": null,
   "id": "3482e63e-1e17-45c0-b1ef-5b3e633db1f9",
   "metadata": {},
   "outputs": [],
   "source": [
    "plt.plot(range(0,303,20), epoch_acc_np)\n",
    "plt.xlabel('epochs')\n",
    "plt.ylabel('average DICE of predictions')"
   ]
  },
  {
   "cell_type": "markdown",
   "id": "d5d754e4-83ed-44fe-a1d2-50996be38761",
   "metadata": {},
   "source": [
    "Learning Rate Optimization"
   ]
  },
  {
   "cell_type": "code",
   "execution_count": null,
   "id": "a2947f75-9b6c-4e9c-9c30-e44ce0658222",
   "metadata": {},
   "outputs": [],
   "source": [
    "model = UNet().to(device) # change out channels for multi-class seg\n",
    "loss_function = DiceLoss()\n",
    "lrs = [1e-6, 500e-5, 1e-5, 500e-4, 1e-4, 500e-3, 1e-3, 500e-2, 1e-2]\n",
    "epochs = 50\n",
    "batch_size = 16\n",
    "scaler = torch.amp.GradScaler(device)\n",
    "# Creating the DataLoader\n",
    "train_data = Data(X_train, Y_train)\n",
    "train_data_loader = DataLoader(train_data, batch_size=batch_size, shuffle=True)\n",
    "val_data = Data(X_val, Y_val)\n",
    "val_data_loader = DataLoader(val_data, batch_size=batch_size, shuffle=True)\n",
    "\n",
    "lr_accuracies = []\n",
    "\n",
    "epoch_accuracies = []\n",
    "\n",
    "for lr in tqdm(lrs):\n",
    "    optimizer = optim.Adam(model.parameters(), lr=lr)\n",
    "    loss_history, predictions = train(model, train_data_loader, val_data_loader, optimizer, loss_function, scaler, epochs, progress_bar=True)\n",
    "    test_predictions = model(X_test)\n",
    "    accuracy = dice_coefficient(test_predictions, Y_test, .2)\n",
    "    epoch_accuracies.append(accuracy)\n",
    "    \n",
    "lr_acc_np = []\n",
    "for acc in lr_accuracies:\n",
    "    lr_acc.append(acc.detach().to('cpu'))\n",
    "\n",
    "plt.plot(lr_acc_np)\n",
    "plt.xlabel('epochs')\n",
    "plt.ylabel('average DICE of predictions')"
   ]
  },
  {
   "cell_type": "markdown",
   "id": "2391de52-9c7b-4d39-b4e0-d331500f18ef",
   "metadata": {},
   "source": [
    "Loss Function Optimization"
   ]
  },
  {
   "cell_type": "code",
   "execution_count": 11,
   "id": "8efab9ba-169b-403a-bb75-ddd7a91658b2",
   "metadata": {},
   "outputs": [
    {
     "data": {
      "application/vnd.jupyter.widget-view+json": {
       "model_id": "f8ccf96fd7ad46d8abc261db971d2c21",
       "version_major": 2,
       "version_minor": 0
      },
      "text/plain": [
       "  0%|          | 0/5 [00:00<?, ?it/s]"
      ]
     },
     "metadata": {},
     "output_type": "display_data"
    },
    {
     "data": {
      "application/vnd.jupyter.widget-view+json": {
       "model_id": "a5c306ef68474ff4bc834a7579db8ffe",
       "version_major": 2,
       "version_minor": 0
      },
      "text/plain": [
       "  0%|          | 0/50 [00:00<?, ?it/s]"
      ]
     },
     "metadata": {},
     "output_type": "display_data"
    },
    {
     "data": {
      "application/vnd.jupyter.widget-view+json": {
       "model_id": "55cae6bf1d784f0e8e2db022543b2b13",
       "version_major": 2,
       "version_minor": 0
      },
      "text/plain": [
       "  0%|          | 0/50 [00:00<?, ?it/s]"
      ]
     },
     "metadata": {},
     "output_type": "display_data"
    },
    {
     "data": {
      "application/vnd.jupyter.widget-view+json": {
       "model_id": "06c67b59efb249c4a02e9f947a1737cd",
       "version_major": 2,
       "version_minor": 0
      },
      "text/plain": [
       "  0%|          | 0/50 [00:00<?, ?it/s]"
      ]
     },
     "metadata": {},
     "output_type": "display_data"
    },
    {
     "data": {
      "application/vnd.jupyter.widget-view+json": {
       "model_id": "575c0841a8d0481f9e76586b898fe601",
       "version_major": 2,
       "version_minor": 0
      },
      "text/plain": [
       "  0%|          | 0/50 [00:00<?, ?it/s]"
      ]
     },
     "metadata": {},
     "output_type": "display_data"
    },
    {
     "data": {
      "application/vnd.jupyter.widget-view+json": {
       "model_id": "9680ab04a6a441d694e783a90e1d17e4",
       "version_major": 2,
       "version_minor": 0
      },
      "text/plain": [
       "  0%|          | 0/50 [00:00<?, ?it/s]"
      ]
     },
     "metadata": {},
     "output_type": "display_data"
    },
    {
     "data": {
      "text/plain": [
       "Text(0, 0.5, 'average DICE of predictions')"
      ]
     },
     "execution_count": 11,
     "metadata": {},
     "output_type": "execute_result"
    },
    {
     "data": {
      "image/png": "[encoded data removed]",
      "text/plain": [
       "<Figure size 640x480 with 1 Axes>"
      ]
     },
     "metadata": {},
     "output_type": "display_data"
    }
   ],
   "source": [
    "loss_functions = [DiceLoss(), TverskyLoss(), nn.BCEWithLogitsLoss(), nn.CrossEntropyLoss(), IoULoss()]\n",
    "loss_acc = []\n",
    "\n",
    "model = UNet().to(device) # change out channels for multi-class seg\n",
    "lr = 1e-3\n",
    "epochs = 50\n",
    "batch_size = 16\n",
    "scaler = torch.amp.GradScaler(device)\n",
    "# Creating the DataLoader\n",
    "train_data = Data(X_train, Y_train)\n",
    "train_data_loader = DataLoader(train_data, batch_size=batch_size, shuffle=True)\n",
    "val_data = Data(X_val, Y_val)\n",
    "val_data_loader = DataLoader(val_data, batch_size=batch_size, shuffle=True)\n",
    "optimizer = optim.Adam(model.parameters(), lr=lr)\n",
    "\n",
    "for loss_function in tqdm(loss_functions):\n",
    "    loss_history, predictions = train(model, train_data_loader, val_data_loader, optimizer, loss_function, scaler, epochs, progress_bar=True)\n",
    "    test_predictions = model(X_test)\n",
    "    accuracy = dice_coefficient(test_predictions, Y_test, .2)\n",
    "    loss_acc.append(accuracy)\n",
    "    \n",
    "loss_acc_np = []\n",
    "for acc in loss_acc:\n",
    "    loss_acc_np.append(acc.detach().to('cpu'))\n",
    "\n",
    "plt.plot(loss_acc_np)\n",
    "plt.xlabel('epochs')\n",
    "plt.ylabel('average DICE of predictions')"
   ]
  },
  {
   "cell_type": "markdown",
   "id": "c822d8d2-82fd-4ae9-ae9b-42e5ec1d7c25",
   "metadata": {},
   "source": [
    "Batch Size Optimization"
   ]
  },
  {
   "cell_type": "code",
   "execution_count": 20,
   "id": "523241ae-392b-42d0-8d9c-6b07fc8ab6a3",
   "metadata": {},
   "outputs": [
    {
     "data": {
      "application/vnd.jupyter.widget-view+json": {
       "model_id": "b523c0c8471344b99ca64ade0b721e55",
       "version_major": 2,
       "version_minor": 0
      },
      "text/plain": [
       "  0%|          | 0/20 [00:00<?, ?it/s]"
      ]
     },
     "metadata": {},
     "output_type": "display_data"
    },
    {
     "data": {
      "application/vnd.jupyter.widget-view+json": {
       "model_id": "6e0a21968a6543c782f193692e31ad7e",
       "version_major": 2,
       "version_minor": 0
      },
      "text/plain": [
       "  0%|          | 0/100 [00:00<?, ?it/s]"
      ]
     },
     "metadata": {},
     "output_type": "display_data"
    },
    {
     "ename": "OutOfMemoryError",
     "evalue": "CUDA out of memory. Tried to allocate 1.34 GiB. GPU 0 has a total capacity of 21.95 GiB of which 692.12 MiB is free. Process 1052103 has 21.27 GiB memory in use. Of the allocated memory 19.90 GiB is allocated by PyTorch, and 1.15 GiB is reserved by PyTorch but unallocated. If reserved but unallocated memory is large try setting PYTORCH_CUDA_ALLOC_CONF=expandable_segments:True to avoid fragmentation.  See documentation for Memory Management  (https://pytorch.org/docs/stable/notes/cuda.html#environment-variables)",
     "output_type": "error",
     "traceback": [
      "\u001b[0;31m---------------------------------------------------------------------------\u001b[0m",
      "\u001b[0;31mOutOfMemoryError\u001b[0m                          Traceback (most recent call last)",
      "Cell \u001b[0;32mIn[20], line 21\u001b[0m\n\u001b[1;32m     18\u001b[0m val_data_loader \u001b[38;5;241m=\u001b[39m DataLoader(val_data, batch_size\u001b[38;5;241m=\u001b[39mbatch_size, shuffle\u001b[38;5;241m=\u001b[39m\u001b[38;5;28;01mTrue\u001b[39;00m)\n\u001b[1;32m     20\u001b[0m loss_history, predictions \u001b[38;5;241m=\u001b[39m train(model, train_data_loader, val_data_loader, optimizer, loss_function, scaler, epochs, progress_bar\u001b[38;5;241m=\u001b[39m\u001b[38;5;28;01mTrue\u001b[39;00m)\n\u001b[0;32m---> 21\u001b[0m test_predictions \u001b[38;5;241m=\u001b[39m \u001b[43mmodel\u001b[49m\u001b[43m(\u001b[49m\u001b[43mX_test\u001b[49m\u001b[43m)\u001b[49m\n\u001b[1;32m     22\u001b[0m accuracy \u001b[38;5;241m=\u001b[39m dice_coefficient(test_predictions, Y_test, \u001b[38;5;241m.2\u001b[39m)\n\u001b[1;32m     23\u001b[0m batch_acc\u001b[38;5;241m.\u001b[39mappend(accuracy)\n",
      "File \u001b[0;32m~/.local/lib/python3.10/site-packages/torch/nn/modules/module.py:1736\u001b[0m, in \u001b[0;36mModule._wrapped_call_impl\u001b[0;34m(self, *args, **kwargs)\u001b[0m\n\u001b[1;32m   1734\u001b[0m     \u001b[38;5;28;01mreturn\u001b[39;00m \u001b[38;5;28mself\u001b[39m\u001b[38;5;241m.\u001b[39m_compiled_call_impl(\u001b[38;5;241m*\u001b[39margs, \u001b[38;5;241m*\u001b[39m\u001b[38;5;241m*\u001b[39mkwargs)  \u001b[38;5;66;03m# type: ignore[misc]\u001b[39;00m\n\u001b[1;32m   1735\u001b[0m \u001b[38;5;28;01melse\u001b[39;00m:\n\u001b[0;32m-> 1736\u001b[0m     \u001b[38;5;28;01mreturn\u001b[39;00m \u001b[38;5;28;43mself\u001b[39;49m\u001b[38;5;241;43m.\u001b[39;49m\u001b[43m_call_impl\u001b[49m\u001b[43m(\u001b[49m\u001b[38;5;241;43m*\u001b[39;49m\u001b[43margs\u001b[49m\u001b[43m,\u001b[49m\u001b[43m \u001b[49m\u001b[38;5;241;43m*\u001b[39;49m\u001b[38;5;241;43m*\u001b[39;49m\u001b[43mkwargs\u001b[49m\u001b[43m)\u001b[49m\n",
      "File \u001b[0;32m~/.local/lib/python3.10/site-packages/torch/nn/modules/module.py:1747\u001b[0m, in \u001b[0;36mModule._call_impl\u001b[0;34m(self, *args, **kwargs)\u001b[0m\n\u001b[1;32m   1742\u001b[0m \u001b[38;5;66;03m# If we don't have any hooks, we want to skip the rest of the logic in\u001b[39;00m\n\u001b[1;32m   1743\u001b[0m \u001b[38;5;66;03m# this function, and just call forward.\u001b[39;00m\n\u001b[1;32m   1744\u001b[0m \u001b[38;5;28;01mif\u001b[39;00m \u001b[38;5;129;01mnot\u001b[39;00m (\u001b[38;5;28mself\u001b[39m\u001b[38;5;241m.\u001b[39m_backward_hooks \u001b[38;5;129;01mor\u001b[39;00m \u001b[38;5;28mself\u001b[39m\u001b[38;5;241m.\u001b[39m_backward_pre_hooks \u001b[38;5;129;01mor\u001b[39;00m \u001b[38;5;28mself\u001b[39m\u001b[38;5;241m.\u001b[39m_forward_hooks \u001b[38;5;129;01mor\u001b[39;00m \u001b[38;5;28mself\u001b[39m\u001b[38;5;241m.\u001b[39m_forward_pre_hooks\n\u001b[1;32m   1745\u001b[0m         \u001b[38;5;129;01mor\u001b[39;00m _global_backward_pre_hooks \u001b[38;5;129;01mor\u001b[39;00m _global_backward_hooks\n\u001b[1;32m   1746\u001b[0m         \u001b[38;5;129;01mor\u001b[39;00m _global_forward_hooks \u001b[38;5;129;01mor\u001b[39;00m _global_forward_pre_hooks):\n\u001b[0;32m-> 1747\u001b[0m     \u001b[38;5;28;01mreturn\u001b[39;00m \u001b[43mforward_call\u001b[49m\u001b[43m(\u001b[49m\u001b[38;5;241;43m*\u001b[39;49m\u001b[43margs\u001b[49m\u001b[43m,\u001b[49m\u001b[43m \u001b[49m\u001b[38;5;241;43m*\u001b[39;49m\u001b[38;5;241;43m*\u001b[39;49m\u001b[43mkwargs\u001b[49m\u001b[43m)\u001b[49m\n\u001b[1;32m   1749\u001b[0m result \u001b[38;5;241m=\u001b[39m \u001b[38;5;28;01mNone\u001b[39;00m\n\u001b[1;32m   1750\u001b[0m called_always_called_hooks \u001b[38;5;241m=\u001b[39m \u001b[38;5;28mset\u001b[39m()\n",
      "Cell \u001b[0;32mIn[8], line 53\u001b[0m, in \u001b[0;36mUNet.forward\u001b[0;34m(self, x)\u001b[0m\n\u001b[1;32m     50\u001b[0m         x \u001b[38;5;241m=\u001b[39m torch\u001b[38;5;241m.\u001b[39mnn\u001b[38;5;241m.\u001b[39mfunctional\u001b[38;5;241m.\u001b[39minterpolate(x, size\u001b[38;5;241m=\u001b[39mskip_connection\u001b[38;5;241m.\u001b[39mshape[\u001b[38;5;241m2\u001b[39m:])\n\u001b[1;32m     52\u001b[0m     \u001b[38;5;66;03m# Concatenate skip connection with the upsampled feature map\u001b[39;00m\n\u001b[0;32m---> 53\u001b[0m     x \u001b[38;5;241m=\u001b[39m \u001b[43mtorch\u001b[49m\u001b[38;5;241;43m.\u001b[39;49m\u001b[43mcat\u001b[49m\u001b[43m(\u001b[49m\u001b[43m(\u001b[49m\u001b[43mskip_connection\u001b[49m\u001b[43m,\u001b[49m\u001b[43m \u001b[49m\u001b[43mx\u001b[49m\u001b[43m)\u001b[49m\u001b[43m,\u001b[49m\u001b[43m \u001b[49m\u001b[43mdim\u001b[49m\u001b[38;5;241;43m=\u001b[39;49m\u001b[38;5;241;43m1\u001b[39;49m\u001b[43m)\u001b[49m  \u001b[38;5;66;03m# Concatenate along the channel dimension\u001b[39;00m\n\u001b[1;32m     54\u001b[0m     x \u001b[38;5;241m=\u001b[39m \u001b[38;5;28mself\u001b[39m\u001b[38;5;241m.\u001b[39mups[idx \u001b[38;5;241m+\u001b[39m \u001b[38;5;241m1\u001b[39m](x)  \u001b[38;5;66;03m# Apply the second double convolution\u001b[39;00m\n\u001b[1;32m     55\u001b[0m \u001b[38;5;28;01mreturn\u001b[39;00m \u001b[38;5;28mself\u001b[39m\u001b[38;5;241m.\u001b[39mfinal_conv(x)\n",
      "\u001b[0;31mOutOfMemoryError\u001b[0m: CUDA out of memory. Tried to allocate 1.34 GiB. GPU 0 has a total capacity of 21.95 GiB of which 692.12 MiB is free. Process 1052103 has 21.27 GiB memory in use. Of the allocated memory 19.90 GiB is allocated by PyTorch, and 1.15 GiB is reserved by PyTorch but unallocated. If reserved but unallocated memory is large try setting PYTORCH_CUDA_ALLOC_CONF=expandable_segments:True to avoid fragmentation.  See documentation for Memory Management  (https://pytorch.org/docs/stable/notes/cuda.html#environment-variables)"
     ]
    }
   ],
   "source": [
    "batch_sizes = []\n",
    "batch_acc = []\n",
    "\n",
    "model = UNet().to(device) # change out channels for multi-class seg\n",
    "lr = 1e-3\n",
    "epochs = 100\n",
    "batches = range(2,200,10)\n",
    "loss_function = DiceLoss()\n",
    "scaler = torch.amp.GradScaler(device)\n",
    "optimizer = optim.Adam(model.parameters(), lr=lr)\n",
    "\n",
    "\n",
    "for batch_size in tqdm(batches):\n",
    "    # Creating the DataLoader\n",
    "    train_data = Data(X_train, Y_train)\n",
    "    train_data_loader = DataLoader(train_data, batch_size=batch_size, shuffle=True)\n",
    "    val_data = Data(X_val, Y_val)\n",
    "    val_data_loader = DataLoader(val_data, batch_size=batch_size, shuffle=True)\n",
    "    \n",
    "    loss_history, predictions = train(model, train_data_loader, val_data_loader, optimizer, loss_function, scaler, epochs, progress_bar=True)\n",
    "    test_predictions = model(X_test)\n",
    "    accuracy = dice_coefficient(test_predictions, Y_test, .2)\n",
    "    batch_acc.append(accuracy)\n",
    "    \n",
    "batch_acc_np = []\n",
    "for acc in batch_acc:\n",
    "    batch_acc_np.append(acc.detach().to('cpu'))\n",
    "\n",
    "plt.plot(batch_acc_np)\n",
    "plt.xlabel('epochs')\n",
    "plt.ylabel('average DICE of predictions')"
   ]
  }
 ],
 "metadata": {
  "kernelspec": {
   "display_name": "IDAS Python 3.10",
   "language": "python",
   "name": "python3"
  },
  "language_info": {
   "codemirror_mode": {
    "name": "ipython",
    "version": 3
   },
   "file_extension": ".py",
   "mimetype": "text/x-python",
   "name": "python",
   "nbconvert_exporter": "python",
   "pygments_lexer": "ipython3",
   "version": "3.10.8"
  }
 },
 "nbformat": 4,
 "nbformat_minor": 5
}
